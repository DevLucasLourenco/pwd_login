{
 "cells": [
  {
   "cell_type": "code",
   "execution_count": 1,
   "metadata": {},
   "outputs": [
    {
     "name": "stdout",
     "output_type": "stream",
     "text": [
      "Bem vindo, Lucas!\n",
      "...\n"
     ]
    }
   ],
   "source": [
    "from getpass import getpass, getuser\n",
    "\n",
    "\n",
    "\n",
    "class selecinar_cor:\n",
    "    x ='\\033[41m'\n",
    "    v='\\033[42m'\n",
    "    r='\\033[0m'\n",
    "    \n",
    "    \n",
    "    \n",
    "usuarios_BD = ['lucas','fulano']\n",
    "senhas_BD = ['123','456']\n",
    "while True:\n",
    "    \n",
    "    req_user = input('Insira seu login de usuario').lower()\n",
    "\n",
    "    if req_user in usuarios_BD:\n",
    "        i = usuarios_BD.index(req_user)\n",
    "        senha_inserida = getpass(prompt='Insira sua senha')\n",
    "        \n",
    "        if senha_inserida == senhas_BD[i]:\n",
    "            \n",
    "            print(f'Bem vindo, {req_user.title()}!')\n",
    "            break\n",
    "        else:\n",
    "            print(selecinar_cor.x + 'tente novamente, senha incorreta' + selecinar_cor.r)\n",
    "        \n",
    "    else:\n",
    "        print(selecinar_cor.x + 'tente novamente, usuario não encontrado' + selecinar_cor.r )\n",
    "        \n",
    "print('...')"
   ]
  }
 ],
 "metadata": {
  "kernelspec": {
   "display_name": "Python 3.10.7 64-bit (microsoft store)",
   "language": "python",
   "name": "python3"
  },
  "language_info": {
   "codemirror_mode": {
    "name": "ipython",
    "version": 3
   },
   "file_extension": ".py",
   "mimetype": "text/x-python",
   "name": "python",
   "nbconvert_exporter": "python",
   "pygments_lexer": "ipython3",
   "version": "3.10.7"
  },
  "orig_nbformat": 4,
  "vscode": {
   "interpreter": {
    "hash": "4deb986f3ce6d39d52ae36d5b72d27b1f73a8b6b686c07859b235a0545bfc1d1"
   }
  }
 },
 "nbformat": 4,
 "nbformat_minor": 2
}
